{
  "nbformat": 4,
  "nbformat_minor": 0,
  "metadata": {
    "colab": {
      "name": "Churn de Cancelamentos.ipynb",
      "provenance": []
    },
    "kernelspec": {
      "name": "python3",
      "display_name": "Python 3"
    }
  },
  "cells": [
    {
      "cell_type": "code",
      "metadata": {
        "id": "M8Iw-GYXSRnt",
        "colab_type": "code",
        "colab": {}
      },
      "source": [
        "import pandas as pd\n",
        "import numpy as np\n",
        "import seaborn as sns"
      ],
      "execution_count": 0,
      "outputs": []
    },
    {
      "cell_type": "code",
      "metadata": {
        "id": "7jp9XOejSoFW",
        "colab_type": "code",
        "colab": {}
      },
      "source": [
        "dados = pd.read_csv('dados_org (1).csv')"
      ],
      "execution_count": 0,
      "outputs": []
    },
    {
      "cell_type": "code",
      "metadata": {
        "id": "hs2oTMakSrXn",
        "colab_type": "code",
        "colab": {
          "base_uri": "https://localhost:8080/",
          "height": 69
        },
        "outputId": "31b22f8e-5d16-4047-e088-f70fcef44b55"
      },
      "source": [
        "dados.columns"
      ],
      "execution_count": 32,
      "outputs": [
        {
          "output_type": "execute_result",
          "data": {
            "text/plain": [
              "Index(['Unnamed: 0', 'Unnamed: 0.1', 'welcome_call', 'welcome_pack', 'idade',\n",
              "       'genero', 'doacoes', 'valor', 'meio_pagamento', 'churn'],\n",
              "      dtype='object')"
            ]
          },
          "metadata": {
            "tags": []
          },
          "execution_count": 32
        }
      ]
    },
    {
      "cell_type": "code",
      "metadata": {
        "id": "wbapymbLWAmB",
        "colab_type": "code",
        "colab": {}
      },
      "source": [
        "dados = dados.dropna()"
      ],
      "execution_count": 0,
      "outputs": []
    },
    {
      "cell_type": "code",
      "metadata": {
        "id": "_kdzbylFSry8",
        "colab_type": "code",
        "colab": {}
      },
      "source": [
        "dados.drop(['Unnamed: 0', 'Unnamed: 0.1'], axis=1, inplace=True)"
      ],
      "execution_count": 0,
      "outputs": []
    },
    {
      "cell_type": "code",
      "metadata": {
        "id": "jrWyCtjzTDaw",
        "colab_type": "code",
        "colab": {
          "base_uri": "https://localhost:8080/",
          "height": 297
        },
        "outputId": "1d0a2e4c-d447-4475-cf1e-5a9873eb4ab0"
      },
      "source": [
        "sns.countplot(dados['churn'])"
      ],
      "execution_count": 35,
      "outputs": [
        {
          "output_type": "execute_result",
          "data": {
            "text/plain": [
              "<matplotlib.axes._subplots.AxesSubplot at 0x7f6fcbfd7668>"
            ]
          },
          "metadata": {
            "tags": []
          },
          "execution_count": 35
        },
        {
          "output_type": "display_data",
          "data": {
            "image/png": "[encoded data removed]",
            "text/plain": [
              "<Figure size 432x288 with 1 Axes>"
            ]
          },
          "metadata": {
            "tags": []
          }
        }
      ]
    },
    {
      "cell_type": "code",
      "metadata": {
        "id": "LJkZ8hqwTJDh",
        "colab_type": "code",
        "colab": {}
      },
      "source": [
        "!pip install imblearn\n",
        "# técnica para balancear dados e preencher NaN's\n",
        "# por Knn ele cria uma região e alimenta os churn 0 para balancear a quantidade de registros\n",
        "# proximidade de caracteristicas balanceando a análise\n",
        "# tambem preenche os dados vazios com NaN de forma que seja coerente com eixo x e y e seus devidos clusters"
      ],
      "execution_count": 0,
      "outputs": []
    },
    {
      "cell_type": "code",
      "metadata": {
        "id": "at-MDN4KTSMk",
        "colab_type": "code",
        "colab": {}
      },
      "source": [
        "from imblearn.over_sampling import ADASYN\n",
        "from sklearn.model_selection import train_test_split"
      ],
      "execution_count": 0,
      "outputs": []
    },
    {
      "cell_type": "code",
      "metadata": {
        "id": "hWA9_NhbUTQO",
        "colab_type": "code",
        "colab": {}
      },
      "source": [
        "X =  pd.get_dummies(data=dados.drop('churn', axis=1),\n",
        "                    columns=['welcome_call', 'welcome_pack', 'genero', 'meio_pagamento']\n",
        "                    )\n",
        "y= dados['churn']"
      ],
      "execution_count": 0,
      "outputs": []
    },
    {
      "cell_type": "code",
      "metadata": {
        "id": "yVUvMjDJVtEX",
        "colab_type": "code",
        "colab": {}
      },
      "source": [
        "X_treino, X_teste, y_treino, y_teste = train_test_split(X,y)"
      ],
      "execution_count": 0,
      "outputs": []
    },
    {
      "cell_type": "code",
      "metadata": {
        "id": "QEELs7S6VSR3",
        "colab_type": "code",
        "colab": {}
      },
      "source": [
        "ada = ADASYN(sampling_strategy='minority')\n",
        "X_res, y_res = ada.fit_resample(X_treino, y_treino)"
      ],
      "execution_count": 0,
      "outputs": []
    },
    {
      "cell_type": "code",
      "metadata": {
        "id": "WRPEPFDCVXOP",
        "colab_type": "code",
        "colab": {
          "base_uri": "https://localhost:8080/",
          "height": 282
        },
        "outputId": "9f9b21ca-0cc8-47f3-c7e5-522be594fe88"
      },
      "source": [
        "sns.countplot(y_res)"
      ],
      "execution_count": 41,
      "outputs": [
        {
          "output_type": "execute_result",
          "data": {
            "text/plain": [
              "<matplotlib.axes._subplots.AxesSubplot at 0x7f6fcbf96e80>"
            ]
          },
          "metadata": {
            "tags": []
          },
          "execution_count": 41
        },
        {
          "output_type": "display_data",
          "data": {
            "image/png": "[encoded data removed]",
            "text/plain": [
              "<Figure size 432x288 with 1 Axes>"
            ]
          },
          "metadata": {
            "tags": []
          }
        }
      ]
    },
    {
      "cell_type": "code",
      "metadata": {
        "id": "l7wlysFPWbue",
        "colab_type": "code",
        "colab": {}
      },
      "source": [
        "from sklearn.neural_network import MLPClassifier\n",
        "modelo = MLPClassifier()"
      ],
      "execution_count": 0,
      "outputs": []
    },
    {
      "cell_type": "code",
      "metadata": {
        "id": "Z-ggEpAmW2b1",
        "colab_type": "code",
        "colab": {}
      },
      "source": [
        "modelo.fit(X_res, y_res)"
      ],
      "execution_count": 0,
      "outputs": []
    },
    {
      "cell_type": "code",
      "metadata": {
        "id": "WLM7V_eBW_Dc",
        "colab_type": "code",
        "colab": {}
      },
      "source": [
        "from sklearn.metrics import classification_report"
      ],
      "execution_count": 0,
      "outputs": []
    },
    {
      "cell_type": "code",
      "metadata": {
        "id": "aDLA_y2pXtOf",
        "colab_type": "code",
        "colab": {}
      },
      "source": [
        "print(classification_report(y_teste, y_pred))"
      ],
      "execution_count": 0,
      "outputs": []
    },
    {
      "cell_type": "code",
      "metadata": {
        "id": "c-M5Ua9qXyX1",
        "colab_type": "code",
        "colab": {}
      },
      "source": [
        "y_pred = modelo.predict(X_teste)"
      ],
      "execution_count": 0,
      "outputs": []
    },
    {
      "cell_type": "code",
      "metadata": {
        "id": "aF9Uc7lDX2Z3",
        "colab_type": "code",
        "colab": {}
      },
      "source": [
        ""
      ],
      "execution_count": 0,
      "outputs": []
    }
  ]
}